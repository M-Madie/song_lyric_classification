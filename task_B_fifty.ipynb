{
 "cells": [
  {
   "cell_type": "markdown",
   "metadata": {},
   "source": [
    "##### Song Analyzer - Britney Spears, 50 Cent"
   ]
  },
  {
   "cell_type": "markdown",
   "metadata": {},
   "source": [
    "Data is already clean for 50 Cent and ready in a file\n",
    "Data Form Britney must be cleaned and formated in first step"
   ]
  },
  {
   "cell_type": "code",
   "execution_count": 1,
   "metadata": {},
   "outputs": [],
   "source": [
    "import pandas as pd\n",
    "import requests\n",
    "from bs4 import BeautifulSoup\n",
    "import re\n",
    "import time"
   ]
  },
  {
   "cell_type": "markdown",
   "metadata": {},
   "source": [
    "Step 1: import 50_cent df (scraped in other notebook)"
   ]
  },
  {
   "cell_type": "code",
   "execution_count": 7,
   "metadata": {},
   "outputs": [
    {
     "data": {
      "text/html": [
       "<div>\n",
       "<style scoped>\n",
       "    .dataframe tbody tr th:only-of-type {\n",
       "        vertical-align: middle;\n",
       "    }\n",
       "\n",
       "    .dataframe tbody tr th {\n",
       "        vertical-align: top;\n",
       "    }\n",
       "\n",
       "    .dataframe thead th {\n",
       "        text-align: right;\n",
       "    }\n",
       "</style>\n",
       "<table border=\"1\" class=\"dataframe\">\n",
       "  <thead>\n",
       "    <tr style=\"text-align: right;\">\n",
       "      <th></th>\n",
       "      <th>lyrics_row</th>\n",
       "      <th>artist_name</th>\n",
       "    </tr>\n",
       "  </thead>\n",
       "  <tbody>\n",
       "    <tr>\n",
       "      <th>0</th>\n",
       "      <td>Yeah, I was born a misfit, grew up ten miles f...</td>\n",
       "      <td>50 Cent</td>\n",
       "    </tr>\n",
       "    <tr>\n",
       "      <th>1</th>\n",
       "      <td>Wanted to make it big, I wished it to existence</td>\n",
       "      <td>50 Cent</td>\n",
       "    </tr>\n",
       "    <tr>\n",
       "      <th>2</th>\n",
       "      <td>I never was a sick kid, always dismissed quick</td>\n",
       "      <td>50 Cent</td>\n",
       "    </tr>\n",
       "    <tr>\n",
       "      <th>3</th>\n",
       "      <td>\"Stick to singing, stop rappin'\", like it's Ch...</td>\n",
       "      <td>50 Cent</td>\n",
       "    </tr>\n",
       "    <tr>\n",
       "      <th>4</th>\n",
       "      <td>And if you're talkin' money, then my conversat...</td>\n",
       "      <td>50 Cent</td>\n",
       "    </tr>\n",
       "    <tr>\n",
       "      <th>...</th>\n",
       "      <td>...</td>\n",
       "      <td>...</td>\n",
       "    </tr>\n",
       "    <tr>\n",
       "      <th>22976</th>\n",
       "      <td>Y'all don't do it how we do</td>\n",
       "      <td>50 Cent</td>\n",
       "    </tr>\n",
       "    <tr>\n",
       "      <th>22977</th>\n",
       "      <td>Niggas ain't on the shit we on</td>\n",
       "      <td>50 Cent</td>\n",
       "    </tr>\n",
       "    <tr>\n",
       "      <th>22978</th>\n",
       "      <td>Everything new</td>\n",
       "      <td>50 Cent</td>\n",
       "    </tr>\n",
       "    <tr>\n",
       "      <th>22979</th>\n",
       "      <td>Spikes on the Louis Vuittons</td>\n",
       "      <td>50 Cent</td>\n",
       "    </tr>\n",
       "    <tr>\n",
       "      <th>22980</th>\n",
       "      <td>We up, nigga!</td>\n",
       "      <td>50 Cent</td>\n",
       "    </tr>\n",
       "  </tbody>\n",
       "</table>\n",
       "<p>22981 rows × 2 columns</p>\n",
       "</div>"
      ],
      "text/plain": [
       "                                              lyrics_row artist_name\n",
       "0      Yeah, I was born a misfit, grew up ten miles f...     50 Cent\n",
       "1        Wanted to make it big, I wished it to existence     50 Cent\n",
       "2         I never was a sick kid, always dismissed quick     50 Cent\n",
       "3      \"Stick to singing, stop rappin'\", like it's Ch...     50 Cent\n",
       "4      And if you're talkin' money, then my conversat...     50 Cent\n",
       "...                                                  ...         ...\n",
       "22976                        Y'all don't do it how we do     50 Cent\n",
       "22977                     Niggas ain't on the shit we on     50 Cent\n",
       "22978                                     Everything new     50 Cent\n",
       "22979                       Spikes on the Louis Vuittons     50 Cent\n",
       "22980                                      We up, nigga!     50 Cent\n",
       "\n",
       "[22981 rows x 2 columns]"
      ]
     },
     "execution_count": 7,
     "metadata": {},
     "output_type": "execute_result"
    }
   ],
   "source": [
    "df_fifty = pd.read_csv('fifty.csv')\n",
    "df_fifty.drop('song_name', axis=1, inplace=True)\n",
    "df_fifty.drop('Unnamed: 0', axis=1, inplace=True)\n",
    "df_fifty"
   ]
  },
  {
   "cell_type": "markdown",
   "metadata": {},
   "source": [
    "Step 2: import Britney df (scraped by another student) and edit to match format of 50_df"
   ]
  },
  {
   "cell_type": "code",
   "execution_count": 2,
   "metadata": {},
   "outputs": [
    {
     "data": {
      "text/html": [
       "<div>\n",
       "<style scoped>\n",
       "    .dataframe tbody tr th:only-of-type {\n",
       "        vertical-align: middle;\n",
       "    }\n",
       "\n",
       "    .dataframe tbody tr th {\n",
       "        vertical-align: top;\n",
       "    }\n",
       "\n",
       "    .dataframe thead th {\n",
       "        text-align: right;\n",
       "    }\n",
       "</style>\n",
       "<table border=\"1\" class=\"dataframe\">\n",
       "  <thead>\n",
       "    <tr style=\"text-align: right;\">\n",
       "      <th></th>\n",
       "      <th>Unnamed: 0</th>\n",
       "      <th>lyrics text</th>\n",
       "      <th>Artist</th>\n",
       "    </tr>\n",
       "  </thead>\n",
       "  <tbody>\n",
       "    <tr>\n",
       "      <th>0</th>\n",
       "      <td>0</td>\n",
       "      <td>Oh baby, baby</td>\n",
       "      <td>Britney spears</td>\n",
       "    </tr>\n",
       "    <tr>\n",
       "      <th>1</th>\n",
       "      <td>1</td>\n",
       "      <td>Oh baby, baby</td>\n",
       "      <td>Britney spears</td>\n",
       "    </tr>\n",
       "    <tr>\n",
       "      <th>2</th>\n",
       "      <td>2</td>\n",
       "      <td>Oh baby, baby, how was I supposed to know</td>\n",
       "      <td>Britney spears</td>\n",
       "    </tr>\n",
       "    <tr>\n",
       "      <th>3</th>\n",
       "      <td>3</td>\n",
       "      <td>That something wasn't right here</td>\n",
       "      <td>Britney spears</td>\n",
       "    </tr>\n",
       "    <tr>\n",
       "      <th>4</th>\n",
       "      <td>4</td>\n",
       "      <td>Oh baby, baby, I shouldn't have let you go</td>\n",
       "      <td>Britney spears</td>\n",
       "    </tr>\n",
       "    <tr>\n",
       "      <th>...</th>\n",
       "      <td>...</td>\n",
       "      <td>...</td>\n",
       "      <td>...</td>\n",
       "    </tr>\n",
       "    <tr>\n",
       "      <th>19970</th>\n",
       "      <td>19970</td>\n",
       "      <td>I'll fly away on a trip to your heart</td>\n",
       "      <td>Britney spears</td>\n",
       "    </tr>\n",
       "    <tr>\n",
       "      <th>19971</th>\n",
       "      <td>19971</td>\n",
       "      <td>Break these chains that keep us apart</td>\n",
       "      <td>Britney spears</td>\n",
       "    </tr>\n",
       "    <tr>\n",
       "      <th>19972</th>\n",
       "      <td>19972</td>\n",
       "      <td>I'll fly away on a trip to your heart</td>\n",
       "      <td>Britney spears</td>\n",
       "    </tr>\n",
       "    <tr>\n",
       "      <th>19973</th>\n",
       "      <td>19973</td>\n",
       "      <td>Oh oh oh oh oh oh oh oh</td>\n",
       "      <td>Britney spears</td>\n",
       "    </tr>\n",
       "    <tr>\n",
       "      <th>19974</th>\n",
       "      <td>19974</td>\n",
       "      <td>I'll fly away on a trip to your heart</td>\n",
       "      <td>Britney spears</td>\n",
       "    </tr>\n",
       "  </tbody>\n",
       "</table>\n",
       "<p>19975 rows × 3 columns</p>\n",
       "</div>"
      ],
      "text/plain": [
       "       Unnamed: 0                                 lyrics text          Artist\n",
       "0               0                               Oh baby, baby  Britney spears\n",
       "1               1                               Oh baby, baby  Britney spears\n",
       "2               2   Oh baby, baby, how was I supposed to know  Britney spears\n",
       "3               3            That something wasn't right here  Britney spears\n",
       "4               4  Oh baby, baby, I shouldn't have let you go  Britney spears\n",
       "...           ...                                         ...             ...\n",
       "19970       19970       I'll fly away on a trip to your heart  Britney spears\n",
       "19971       19971       Break these chains that keep us apart  Britney spears\n",
       "19972       19972       I'll fly away on a trip to your heart  Britney spears\n",
       "19973       19973                     Oh oh oh oh oh oh oh oh  Britney spears\n",
       "19974       19974       I'll fly away on a trip to your heart  Britney spears\n",
       "\n",
       "[19975 rows x 3 columns]"
      ]
     },
     "execution_count": 2,
     "metadata": {},
     "output_type": "execute_result"
    }
   ],
   "source": [
    "df = pd.read_csv('britney.csv')\n",
    "df"
   ]
  },
  {
   "cell_type": "code",
   "execution_count": 3,
   "metadata": {},
   "outputs": [
    {
     "data": {
      "text/html": [
       "<div>\n",
       "<style scoped>\n",
       "    .dataframe tbody tr th:only-of-type {\n",
       "        vertical-align: middle;\n",
       "    }\n",
       "\n",
       "    .dataframe tbody tr th {\n",
       "        vertical-align: top;\n",
       "    }\n",
       "\n",
       "    .dataframe thead th {\n",
       "        text-align: right;\n",
       "    }\n",
       "</style>\n",
       "<table border=\"1\" class=\"dataframe\">\n",
       "  <thead>\n",
       "    <tr style=\"text-align: right;\">\n",
       "      <th></th>\n",
       "      <th>lyrics text</th>\n",
       "      <th>Artist</th>\n",
       "    </tr>\n",
       "  </thead>\n",
       "  <tbody>\n",
       "    <tr>\n",
       "      <th>0</th>\n",
       "      <td>Oh baby, baby</td>\n",
       "      <td>Britney spears</td>\n",
       "    </tr>\n",
       "    <tr>\n",
       "      <th>1</th>\n",
       "      <td>Oh baby, baby</td>\n",
       "      <td>Britney spears</td>\n",
       "    </tr>\n",
       "    <tr>\n",
       "      <th>2</th>\n",
       "      <td>Oh baby, baby, how was I supposed to know</td>\n",
       "      <td>Britney spears</td>\n",
       "    </tr>\n",
       "    <tr>\n",
       "      <th>3</th>\n",
       "      <td>That something wasn't right here</td>\n",
       "      <td>Britney spears</td>\n",
       "    </tr>\n",
       "    <tr>\n",
       "      <th>4</th>\n",
       "      <td>Oh baby, baby, I shouldn't have let you go</td>\n",
       "      <td>Britney spears</td>\n",
       "    </tr>\n",
       "    <tr>\n",
       "      <th>...</th>\n",
       "      <td>...</td>\n",
       "      <td>...</td>\n",
       "    </tr>\n",
       "    <tr>\n",
       "      <th>19970</th>\n",
       "      <td>I'll fly away on a trip to your heart</td>\n",
       "      <td>Britney spears</td>\n",
       "    </tr>\n",
       "    <tr>\n",
       "      <th>19971</th>\n",
       "      <td>Break these chains that keep us apart</td>\n",
       "      <td>Britney spears</td>\n",
       "    </tr>\n",
       "    <tr>\n",
       "      <th>19972</th>\n",
       "      <td>I'll fly away on a trip to your heart</td>\n",
       "      <td>Britney spears</td>\n",
       "    </tr>\n",
       "    <tr>\n",
       "      <th>19973</th>\n",
       "      <td>Oh oh oh oh oh oh oh oh</td>\n",
       "      <td>Britney spears</td>\n",
       "    </tr>\n",
       "    <tr>\n",
       "      <th>19974</th>\n",
       "      <td>I'll fly away on a trip to your heart</td>\n",
       "      <td>Britney spears</td>\n",
       "    </tr>\n",
       "  </tbody>\n",
       "</table>\n",
       "<p>19975 rows × 2 columns</p>\n",
       "</div>"
      ],
      "text/plain": [
       "                                      lyrics text          Artist\n",
       "0                                   Oh baby, baby  Britney spears\n",
       "1                                   Oh baby, baby  Britney spears\n",
       "2       Oh baby, baby, how was I supposed to know  Britney spears\n",
       "3                That something wasn't right here  Britney spears\n",
       "4      Oh baby, baby, I shouldn't have let you go  Britney spears\n",
       "...                                           ...             ...\n",
       "19970       I'll fly away on a trip to your heart  Britney spears\n",
       "19971       Break these chains that keep us apart  Britney spears\n",
       "19972       I'll fly away on a trip to your heart  Britney spears\n",
       "19973                     Oh oh oh oh oh oh oh oh  Britney spears\n",
       "19974       I'll fly away on a trip to your heart  Britney spears\n",
       "\n",
       "[19975 rows x 2 columns]"
      ]
     },
     "execution_count": 3,
     "metadata": {},
     "output_type": "execute_result"
    }
   ],
   "source": [
    "df.drop('Unnamed: 0', axis=1, inplace=True)\n",
    "df"
   ]
  },
  {
   "cell_type": "code",
   "execution_count": 5,
   "metadata": {},
   "outputs": [],
   "source": [
    "df_britney = df"
   ]
  },
  {
   "cell_type": "code",
   "execution_count": 6,
   "metadata": {},
   "outputs": [
    {
     "data": {
      "text/html": [
       "<div>\n",
       "<style scoped>\n",
       "    .dataframe tbody tr th:only-of-type {\n",
       "        vertical-align: middle;\n",
       "    }\n",
       "\n",
       "    .dataframe tbody tr th {\n",
       "        vertical-align: top;\n",
       "    }\n",
       "\n",
       "    .dataframe thead th {\n",
       "        text-align: right;\n",
       "    }\n",
       "</style>\n",
       "<table border=\"1\" class=\"dataframe\">\n",
       "  <thead>\n",
       "    <tr style=\"text-align: right;\">\n",
       "      <th></th>\n",
       "      <th>lyrics_row</th>\n",
       "      <th>artist_name</th>\n",
       "    </tr>\n",
       "  </thead>\n",
       "  <tbody>\n",
       "    <tr>\n",
       "      <th>0</th>\n",
       "      <td>Oh baby, baby</td>\n",
       "      <td>Britney spears</td>\n",
       "    </tr>\n",
       "    <tr>\n",
       "      <th>1</th>\n",
       "      <td>Oh baby, baby</td>\n",
       "      <td>Britney spears</td>\n",
       "    </tr>\n",
       "    <tr>\n",
       "      <th>2</th>\n",
       "      <td>Oh baby, baby, how was I supposed to know</td>\n",
       "      <td>Britney spears</td>\n",
       "    </tr>\n",
       "    <tr>\n",
       "      <th>3</th>\n",
       "      <td>That something wasn't right here</td>\n",
       "      <td>Britney spears</td>\n",
       "    </tr>\n",
       "    <tr>\n",
       "      <th>4</th>\n",
       "      <td>Oh baby, baby, I shouldn't have let you go</td>\n",
       "      <td>Britney spears</td>\n",
       "    </tr>\n",
       "    <tr>\n",
       "      <th>...</th>\n",
       "      <td>...</td>\n",
       "      <td>...</td>\n",
       "    </tr>\n",
       "    <tr>\n",
       "      <th>19970</th>\n",
       "      <td>I'll fly away on a trip to your heart</td>\n",
       "      <td>Britney spears</td>\n",
       "    </tr>\n",
       "    <tr>\n",
       "      <th>19971</th>\n",
       "      <td>Break these chains that keep us apart</td>\n",
       "      <td>Britney spears</td>\n",
       "    </tr>\n",
       "    <tr>\n",
       "      <th>19972</th>\n",
       "      <td>I'll fly away on a trip to your heart</td>\n",
       "      <td>Britney spears</td>\n",
       "    </tr>\n",
       "    <tr>\n",
       "      <th>19973</th>\n",
       "      <td>Oh oh oh oh oh oh oh oh</td>\n",
       "      <td>Britney spears</td>\n",
       "    </tr>\n",
       "    <tr>\n",
       "      <th>19974</th>\n",
       "      <td>I'll fly away on a trip to your heart</td>\n",
       "      <td>Britney spears</td>\n",
       "    </tr>\n",
       "  </tbody>\n",
       "</table>\n",
       "<p>19975 rows × 2 columns</p>\n",
       "</div>"
      ],
      "text/plain": [
       "                                       lyrics_row     artist_name\n",
       "0                                   Oh baby, baby  Britney spears\n",
       "1                                   Oh baby, baby  Britney spears\n",
       "2       Oh baby, baby, how was I supposed to know  Britney spears\n",
       "3                That something wasn't right here  Britney spears\n",
       "4      Oh baby, baby, I shouldn't have let you go  Britney spears\n",
       "...                                           ...             ...\n",
       "19970       I'll fly away on a trip to your heart  Britney spears\n",
       "19971       Break these chains that keep us apart  Britney spears\n",
       "19972       I'll fly away on a trip to your heart  Britney spears\n",
       "19973                     Oh oh oh oh oh oh oh oh  Britney spears\n",
       "19974       I'll fly away on a trip to your heart  Britney spears\n",
       "\n",
       "[19975 rows x 2 columns]"
      ]
     },
     "execution_count": 6,
     "metadata": {},
     "output_type": "execute_result"
    }
   ],
   "source": [
    "# change column names to match other DF\n",
    "df_britney = df_britney.rename({'lyrics text': 'lyrics_row', 'Artist': 'artist_name'}, axis=1)\n",
    "df_britney"
   ]
  },
  {
   "cell_type": "markdown",
   "metadata": {},
   "source": [
    "step 3: Combine two DF, split to X y"
   ]
  },
  {
   "cell_type": "code",
   "execution_count": 8,
   "metadata": {},
   "outputs": [
    {
     "data": {
      "text/html": [
       "<div>\n",
       "<style scoped>\n",
       "    .dataframe tbody tr th:only-of-type {\n",
       "        vertical-align: middle;\n",
       "    }\n",
       "\n",
       "    .dataframe tbody tr th {\n",
       "        vertical-align: top;\n",
       "    }\n",
       "\n",
       "    .dataframe thead th {\n",
       "        text-align: right;\n",
       "    }\n",
       "</style>\n",
       "<table border=\"1\" class=\"dataframe\">\n",
       "  <thead>\n",
       "    <tr style=\"text-align: right;\">\n",
       "      <th></th>\n",
       "      <th>lyrics_row</th>\n",
       "      <th>artist_name</th>\n",
       "    </tr>\n",
       "  </thead>\n",
       "  <tbody>\n",
       "    <tr>\n",
       "      <th>0</th>\n",
       "      <td>Oh baby, baby</td>\n",
       "      <td>Britney spears</td>\n",
       "    </tr>\n",
       "    <tr>\n",
       "      <th>1</th>\n",
       "      <td>Oh baby, baby</td>\n",
       "      <td>Britney spears</td>\n",
       "    </tr>\n",
       "    <tr>\n",
       "      <th>2</th>\n",
       "      <td>Oh baby, baby, how was I supposed to know</td>\n",
       "      <td>Britney spears</td>\n",
       "    </tr>\n",
       "    <tr>\n",
       "      <th>3</th>\n",
       "      <td>That something wasn't right here</td>\n",
       "      <td>Britney spears</td>\n",
       "    </tr>\n",
       "    <tr>\n",
       "      <th>4</th>\n",
       "      <td>Oh baby, baby, I shouldn't have let you go</td>\n",
       "      <td>Britney spears</td>\n",
       "    </tr>\n",
       "    <tr>\n",
       "      <th>...</th>\n",
       "      <td>...</td>\n",
       "      <td>...</td>\n",
       "    </tr>\n",
       "    <tr>\n",
       "      <th>22976</th>\n",
       "      <td>Y'all don't do it how we do</td>\n",
       "      <td>50 Cent</td>\n",
       "    </tr>\n",
       "    <tr>\n",
       "      <th>22977</th>\n",
       "      <td>Niggas ain't on the shit we on</td>\n",
       "      <td>50 Cent</td>\n",
       "    </tr>\n",
       "    <tr>\n",
       "      <th>22978</th>\n",
       "      <td>Everything new</td>\n",
       "      <td>50 Cent</td>\n",
       "    </tr>\n",
       "    <tr>\n",
       "      <th>22979</th>\n",
       "      <td>Spikes on the Louis Vuittons</td>\n",
       "      <td>50 Cent</td>\n",
       "    </tr>\n",
       "    <tr>\n",
       "      <th>22980</th>\n",
       "      <td>We up, nigga!</td>\n",
       "      <td>50 Cent</td>\n",
       "    </tr>\n",
       "  </tbody>\n",
       "</table>\n",
       "<p>42956 rows × 2 columns</p>\n",
       "</div>"
      ],
      "text/plain": [
       "                                       lyrics_row     artist_name\n",
       "0                                   Oh baby, baby  Britney spears\n",
       "1                                   Oh baby, baby  Britney spears\n",
       "2       Oh baby, baby, how was I supposed to know  Britney spears\n",
       "3                That something wasn't right here  Britney spears\n",
       "4      Oh baby, baby, I shouldn't have let you go  Britney spears\n",
       "...                                           ...             ...\n",
       "22976                 Y'all don't do it how we do         50 Cent\n",
       "22977              Niggas ain't on the shit we on         50 Cent\n",
       "22978                              Everything new         50 Cent\n",
       "22979                Spikes on the Louis Vuittons         50 Cent\n",
       "22980                               We up, nigga!         50 Cent\n",
       "\n",
       "[42956 rows x 2 columns]"
      ]
     },
     "execution_count": 8,
     "metadata": {},
     "output_type": "execute_result"
    }
   ],
   "source": [
    "combined_df = pd.concat([df_britney, df_fifty], axis=0)\n",
    "combined_df"
   ]
  },
  {
   "cell_type": "code",
   "execution_count": 9,
   "metadata": {},
   "outputs": [
    {
     "data": {
      "text/html": [
       "<div>\n",
       "<style scoped>\n",
       "    .dataframe tbody tr th:only-of-type {\n",
       "        vertical-align: middle;\n",
       "    }\n",
       "\n",
       "    .dataframe tbody tr th {\n",
       "        vertical-align: top;\n",
       "    }\n",
       "\n",
       "    .dataframe thead th {\n",
       "        text-align: right;\n",
       "    }\n",
       "</style>\n",
       "<table border=\"1\" class=\"dataframe\">\n",
       "  <thead>\n",
       "    <tr style=\"text-align: right;\">\n",
       "      <th></th>\n",
       "      <th>lyrics_row</th>\n",
       "      <th>artist_name</th>\n",
       "    </tr>\n",
       "  </thead>\n",
       "  <tbody>\n",
       "    <tr>\n",
       "      <th>0</th>\n",
       "      <td>Oh baby, baby</td>\n",
       "      <td>Britney spears</td>\n",
       "    </tr>\n",
       "    <tr>\n",
       "      <th>1</th>\n",
       "      <td>Oh baby, baby</td>\n",
       "      <td>Britney spears</td>\n",
       "    </tr>\n",
       "    <tr>\n",
       "      <th>2</th>\n",
       "      <td>Oh baby, baby, how was I supposed to know</td>\n",
       "      <td>Britney spears</td>\n",
       "    </tr>\n",
       "    <tr>\n",
       "      <th>3</th>\n",
       "      <td>That something wasn't right here</td>\n",
       "      <td>Britney spears</td>\n",
       "    </tr>\n",
       "    <tr>\n",
       "      <th>4</th>\n",
       "      <td>Oh baby, baby, I shouldn't have let you go</td>\n",
       "      <td>Britney spears</td>\n",
       "    </tr>\n",
       "    <tr>\n",
       "      <th>...</th>\n",
       "      <td>...</td>\n",
       "      <td>...</td>\n",
       "    </tr>\n",
       "    <tr>\n",
       "      <th>42951</th>\n",
       "      <td>Y'all don't do it how we do</td>\n",
       "      <td>50 Cent</td>\n",
       "    </tr>\n",
       "    <tr>\n",
       "      <th>42952</th>\n",
       "      <td>Niggas ain't on the shit we on</td>\n",
       "      <td>50 Cent</td>\n",
       "    </tr>\n",
       "    <tr>\n",
       "      <th>42953</th>\n",
       "      <td>Everything new</td>\n",
       "      <td>50 Cent</td>\n",
       "    </tr>\n",
       "    <tr>\n",
       "      <th>42954</th>\n",
       "      <td>Spikes on the Louis Vuittons</td>\n",
       "      <td>50 Cent</td>\n",
       "    </tr>\n",
       "    <tr>\n",
       "      <th>42955</th>\n",
       "      <td>We up, nigga!</td>\n",
       "      <td>50 Cent</td>\n",
       "    </tr>\n",
       "  </tbody>\n",
       "</table>\n",
       "<p>42956 rows × 2 columns</p>\n",
       "</div>"
      ],
      "text/plain": [
       "                                       lyrics_row     artist_name\n",
       "0                                   Oh baby, baby  Britney spears\n",
       "1                                   Oh baby, baby  Britney spears\n",
       "2       Oh baby, baby, how was I supposed to know  Britney spears\n",
       "3                That something wasn't right here  Britney spears\n",
       "4      Oh baby, baby, I shouldn't have let you go  Britney spears\n",
       "...                                           ...             ...\n",
       "42951                 Y'all don't do it how we do         50 Cent\n",
       "42952              Niggas ain't on the shit we on         50 Cent\n",
       "42953                              Everything new         50 Cent\n",
       "42954                Spikes on the Louis Vuittons         50 Cent\n",
       "42955                               We up, nigga!         50 Cent\n",
       "\n",
       "[42956 rows x 2 columns]"
      ]
     },
     "execution_count": 9,
     "metadata": {},
     "output_type": "execute_result"
    }
   ],
   "source": [
    "# reset index\n",
    "combined_df = combined_df.reset_index()\n",
    "combined_df = combined_df.drop('index', axis=1)\n",
    "combined_df"
   ]
  },
  {
   "cell_type": "code",
   "execution_count": null,
   "metadata": {},
   "outputs": [],
   "source": [
    "combined_df.to_csv('combined_britny_fifty_df.csv')"
   ]
  },
  {
   "cell_type": "markdown",
   "metadata": {},
   "source": [
    "Step 4: Feature Engineering"
   ]
  },
  {
   "cell_type": "code",
   "execution_count": 10,
   "metadata": {},
   "outputs": [
    {
     "data": {
      "text/html": [
       "<div>\n",
       "<style scoped>\n",
       "    .dataframe tbody tr th:only-of-type {\n",
       "        vertical-align: middle;\n",
       "    }\n",
       "\n",
       "    .dataframe tbody tr th {\n",
       "        vertical-align: top;\n",
       "    }\n",
       "\n",
       "    .dataframe thead th {\n",
       "        text-align: right;\n",
       "    }\n",
       "</style>\n",
       "<table border=\"1\" class=\"dataframe\">\n",
       "  <thead>\n",
       "    <tr style=\"text-align: right;\">\n",
       "      <th></th>\n",
       "      <th>lyrics_row</th>\n",
       "      <th>artist_name</th>\n",
       "    </tr>\n",
       "  </thead>\n",
       "  <tbody>\n",
       "    <tr>\n",
       "      <th>0</th>\n",
       "      <td>Oh baby, baby</td>\n",
       "      <td>1</td>\n",
       "    </tr>\n",
       "    <tr>\n",
       "      <th>1</th>\n",
       "      <td>Oh baby, baby</td>\n",
       "      <td>1</td>\n",
       "    </tr>\n",
       "    <tr>\n",
       "      <th>2</th>\n",
       "      <td>Oh baby, baby, how was I supposed to know</td>\n",
       "      <td>1</td>\n",
       "    </tr>\n",
       "    <tr>\n",
       "      <th>3</th>\n",
       "      <td>That something wasn't right here</td>\n",
       "      <td>1</td>\n",
       "    </tr>\n",
       "    <tr>\n",
       "      <th>4</th>\n",
       "      <td>Oh baby, baby, I shouldn't have let you go</td>\n",
       "      <td>1</td>\n",
       "    </tr>\n",
       "    <tr>\n",
       "      <th>...</th>\n",
       "      <td>...</td>\n",
       "      <td>...</td>\n",
       "    </tr>\n",
       "    <tr>\n",
       "      <th>42951</th>\n",
       "      <td>Y'all don't do it how we do</td>\n",
       "      <td>0</td>\n",
       "    </tr>\n",
       "    <tr>\n",
       "      <th>42952</th>\n",
       "      <td>Niggas ain't on the shit we on</td>\n",
       "      <td>0</td>\n",
       "    </tr>\n",
       "    <tr>\n",
       "      <th>42953</th>\n",
       "      <td>Everything new</td>\n",
       "      <td>0</td>\n",
       "    </tr>\n",
       "    <tr>\n",
       "      <th>42954</th>\n",
       "      <td>Spikes on the Louis Vuittons</td>\n",
       "      <td>0</td>\n",
       "    </tr>\n",
       "    <tr>\n",
       "      <th>42955</th>\n",
       "      <td>We up, nigga!</td>\n",
       "      <td>0</td>\n",
       "    </tr>\n",
       "  </tbody>\n",
       "</table>\n",
       "<p>42956 rows × 2 columns</p>\n",
       "</div>"
      ],
      "text/plain": [
       "                                       lyrics_row  artist_name\n",
       "0                                   Oh baby, baby            1\n",
       "1                                   Oh baby, baby            1\n",
       "2       Oh baby, baby, how was I supposed to know            1\n",
       "3                That something wasn't right here            1\n",
       "4      Oh baby, baby, I shouldn't have let you go            1\n",
       "...                                           ...          ...\n",
       "42951                 Y'all don't do it how we do            0\n",
       "42952              Niggas ain't on the shit we on            0\n",
       "42953                              Everything new            0\n",
       "42954                Spikes on the Louis Vuittons            0\n",
       "42955                               We up, nigga!            0\n",
       "\n",
       "[42956 rows x 2 columns]"
      ]
     },
     "execution_count": 10,
     "metadata": {},
     "output_type": "execute_result"
    }
   ],
   "source": [
    "# replace values under 'artist name' into int - 50 cent==0, Britney spears==1\n",
    "combined_df['artist_name'].replace(['50 Cent', 'Britney spears'], [0, 1], inplace=True)\n",
    "combined_df"
   ]
  },
  {
   "cell_type": "code",
   "execution_count": 11,
   "metadata": {},
   "outputs": [],
   "source": [
    "# Split to X and y\n",
    "y = combined_df['artist_name']\n",
    "X = combined_df['lyrics_row']"
   ]
  },
  {
   "cell_type": "code",
   "execution_count": 12,
   "metadata": {},
   "outputs": [
    {
     "data": {
      "text/plain": [
       "0    0.534989\n",
       "1    0.465011\n",
       "Name: artist_name, dtype: float64"
      ]
     },
     "execution_count": 12,
     "metadata": {},
     "output_type": "execute_result"
    }
   ],
   "source": [
    "y.value_counts(normalize=True)   # Imbalanced Data Set"
   ]
  },
  {
   "cell_type": "code",
   "execution_count": 13,
   "metadata": {},
   "outputs": [],
   "source": [
    "# split Train,Test\n",
    "from sklearn.model_selection import train_test_split\n",
    "X_train, X_test, y_train, y_test = train_test_split(X, y, random_state=10)"
   ]
  },
  {
   "cell_type": "code",
   "execution_count": 14,
   "metadata": {},
   "outputs": [
    {
     "data": {
      "text/plain": [
       "((32217,), (10739,), (32217,), (10739,))"
      ]
     },
     "execution_count": 14,
     "metadata": {},
     "output_type": "execute_result"
    }
   ],
   "source": [
    "X_train.shape, X_test.shape, y_train.shape, y_test.shape "
   ]
  },
  {
   "cell_type": "code",
   "execution_count": 15,
   "metadata": {},
   "outputs": [
    {
     "data": {
      "text/plain": [
       "(0    0.535276\n",
       " 1    0.464724\n",
       " Name: artist_name, dtype: float64,\n",
       " 0    0.534128\n",
       " 1    0.465872\n",
       " Name: artist_name, dtype: float64)"
      ]
     },
     "execution_count": 15,
     "metadata": {},
     "output_type": "execute_result"
    }
   ],
   "source": [
    "y_train.value_counts(normalize=True), y_test.value_counts(normalize=True)"
   ]
  },
  {
   "cell_type": "code",
   "execution_count": 16,
   "metadata": {},
   "outputs": [
    {
     "data": {
      "text/plain": [
       "(pandas.core.series.Series, str)"
      ]
     },
     "execution_count": 16,
     "metadata": {},
     "output_type": "execute_result"
    }
   ],
   "source": [
    "type(X_train), type(X_train[1])"
   ]
  },
  {
   "cell_type": "markdown",
   "metadata": {},
   "source": [
    "##### Countvectorizer"
   ]
  },
  {
   "cell_type": "code",
   "execution_count": 17,
   "metadata": {},
   "outputs": [],
   "source": [
    "# set and fit Vectorizer  + pickle fitted Vectorizer\n",
    "from sklearn.feature_extraction.text import CountVectorizer\n",
    "import pickle\n",
    "\n",
    "vectorizer = CountVectorizer(stop_words='english', ngram_range=(1, 2))\n",
    "vectorizer.fit(X_train.values.astype('U'))\n",
    "pickle.dump(vectorizer, open(\"vector_1.pickle\", \"wb\"))\n",
    "\n",
    "# transform X_train (with fitted Vectorizer)\n",
    "X_train_V = vectorizer.transform(X_train.values.astype('U'))\n"
   ]
  },
  {
   "cell_type": "code",
   "execution_count": 18,
   "metadata": {},
   "outputs": [
    {
     "data": {
      "text/plain": [
       "(32217, 48009)"
      ]
     },
     "execution_count": 18,
     "metadata": {},
     "output_type": "execute_result"
    }
   ],
   "source": [
    "X_train_V.shape"
   ]
  },
  {
   "cell_type": "markdown",
   "metadata": {},
   "source": [
    "Step 5: Create Model"
   ]
  },
  {
   "cell_type": "code",
   "execution_count": 19,
   "metadata": {},
   "outputs": [
    {
     "data": {
      "text/plain": [
       "0.9507402923922152"
      ]
     },
     "execution_count": 19,
     "metadata": {},
     "output_type": "execute_result"
    }
   ],
   "source": [
    "# Fit and train LinearRegression model (with weights)\n",
    "\n",
    "from sklearn.linear_model import LogisticRegression\n",
    "m = LogisticRegression(class_weight='balanced_subsample', max_iter=300)\n",
    "m.fit(X_train_V, y_train)\n",
    "m.score(X_train_V, y_train)"
   ]
  },
  {
   "cell_type": "code",
   "execution_count": 20,
   "metadata": {},
   "outputs": [],
   "source": [
    "# Pickle model\n",
    "pickle.dump(m, open(\"model_1.pickle\", \"wb\"))"
   ]
  },
  {
   "cell_type": "markdown",
   "metadata": {},
   "source": [
    "step 6: asses model"
   ]
  },
  {
   "cell_type": "code",
   "execution_count": 21,
   "metadata": {},
   "outputs": [
    {
     "data": {
      "text/plain": [
       "0.87913213520812"
      ]
     },
     "execution_count": 21,
     "metadata": {},
     "output_type": "execute_result"
    }
   ],
   "source": [
    "# transfor X_test, calculate test score\n",
    "X_test_V = vectorizer.transform(X_test.values.astype('U'))\n",
    "m.score(X_test_V, y_test)"
   ]
  },
  {
   "cell_type": "code",
   "execution_count": 22,
   "metadata": {},
   "outputs": [],
   "source": [
    "# Predict y from X_test\n",
    "y_predict = m.predict(X_test_V)"
   ]
  },
  {
   "cell_type": "code",
   "execution_count": 23,
   "metadata": {},
   "outputs": [
    {
     "name": "stdout",
     "output_type": "stream",
     "text": [
      "The accuracy of the model is: 0.879\n",
      "The precision of the model is: 0.829\n",
      "The recall of the model is: 0.933\n",
      "The f1-score of the model is: 0.878\n"
     ]
    }
   ],
   "source": [
    "from sklearn.metrics import accuracy_score, precision_score, recall_score, f1_score, confusion_matrix, ConfusionMatrixDisplay\n",
    "print(f'The accuracy of the model is: {round(accuracy_score(y_test, y_predict), 3)}')\n",
    "print(f'The precision of the model is: {round(precision_score(y_test, y_predict), 3)}')\n",
    "print(f'The recall of the model is: {round(recall_score(y_test, y_predict), 3)}')\n",
    "print(f'The f1-score of the model is: {round(f1_score(y_test, y_predict), 3)}')"
   ]
  },
  {
   "cell_type": "code",
   "execution_count": 24,
   "metadata": {},
   "outputs": [
    {
     "data": {
      "text/plain": [
       "<sklearn.metrics._plot.confusion_matrix.ConfusionMatrixDisplay at 0x1cdcfe8ae80>"
      ]
     },
     "execution_count": 24,
     "metadata": {},
     "output_type": "execute_result"
    },
    {
     "data": {
      "image/png": "[encoded data removed]",
      "text/plain": [
       "<Figure size 432x288 with 2 Axes>"
      ]
     },
     "metadata": {
      "needs_background": "light"
     },
     "output_type": "display_data"
    }
   ],
   "source": [
    "cm = confusion_matrix(y_test, y_predict)    \n",
    "disp = ConfusionMatrixDisplay(cm, display_labels=['50 Cent', 'Britney Spears'])\n",
    "disp.plot()"
   ]
  },
  {
   "cell_type": "markdown",
   "metadata": {},
   "source": [
    "<font color='red'>\n",
    "More Britney lyrics are missclassified as 50_cent then the other way >> check  Precision-recall curves to choose a more balanced threshhold\n",
    "</font>"
   ]
  },
  {
   "cell_type": "markdown",
   "metadata": {},
   "source": []
  },
  {
   "cell_type": "code",
   "execution_count": 28,
   "metadata": {},
   "outputs": [],
   "source": [
    "from sklearn.metrics import plot_roc_curve, auc, roc_curve\n",
    "from sklearn.metrics import plot_precision_recall_curve\n",
    "from sklearn.metrics import precision_recall_curve"
   ]
  },
  {
   "cell_type": "code",
   "execution_count": 29,
   "metadata": {},
   "outputs": [],
   "source": [
    "probs = m.predict_proba(X_test_V) \n",
    "fpr, tpr, threshold = roc_curve(y_test, probs[:,1])"
   ]
  },
  {
   "cell_type": "code",
   "execution_count": 30,
   "metadata": {},
   "outputs": [
    {
     "name": "stdout",
     "output_type": "stream",
     "text": [
      "Area under the curve =  0.9525853177075624\n"
     ]
    },
    {
     "name": "stderr",
     "output_type": "stream",
     "text": [
      "c:\\Users\\maisa\\anaconda3\\lib\\site-packages\\sklearn\\utils\\deprecation.py:87: FutureWarning: Function plot_roc_curve is deprecated; Function :func:`plot_roc_curve` is deprecated in 1.0 and will be removed in 1.2. Use one of the class methods: :meth:`sklearn.metric.RocCurveDisplay.from_predictions` or :meth:`sklearn.metric.RocCurveDisplay.from_estimator`.\n",
      "  warnings.warn(msg, category=FutureWarning)\n"
     ]
    },
    {
     "data": {
      "text/plain": [
       "(0.0, 1.0)"
      ]
     },
     "execution_count": 30,
     "metadata": {},
     "output_type": "execute_result"
    },
    {
     "data": {
      "image/png": "[encoded data removed]",
      "text/plain": [
       "<Figure size 432x288 with 1 Axes>"
      ]
     },
     "metadata": {
      "needs_background": "light"
     },
     "output_type": "display_data"
    }
   ],
   "source": [
    "import matplotlib.pyplot as plt\n",
    "# Calculating area under the curve\n",
    "auc_score = auc(fpr, tpr)\n",
    "print(\"Area under the curve = \",auc_score)\n",
    "\n",
    "plot_roc_curve(m, X_test_V, y_test)  \n",
    "plt.title(\"ROC Curve\")\n",
    "\n",
    "plt.ylabel(\"TPR\")\n",
    "plt.xlabel(\"FPR\")\n",
    "plt.legend(loc=\"lower left\")\n",
    "plt.ylim([0,1.00])"
   ]
  },
  {
   "cell_type": "code",
   "execution_count": 31,
   "metadata": {},
   "outputs": [
    {
     "name": "stderr",
     "output_type": "stream",
     "text": [
      "c:\\Users\\maisa\\anaconda3\\lib\\site-packages\\sklearn\\utils\\deprecation.py:87: FutureWarning: Function plot_precision_recall_curve is deprecated; Function `plot_precision_recall_curve` is deprecated in 1.0 and will be removed in 1.2. Use one of the class methods: PrecisionRecallDisplay.from_predictions or PrecisionRecallDisplay.from_estimator.\n",
      "  warnings.warn(msg, category=FutureWarning)\n"
     ]
    },
    {
     "data": {
      "text/plain": [
       "<sklearn.metrics._plot.precision_recall_curve.PrecisionRecallDisplay at 0x1cdcfd24c10>"
      ]
     },
     "execution_count": 31,
     "metadata": {},
     "output_type": "execute_result"
    },
    {
     "data": {
      "image/png": "[encoded data removed]",
      "text/plain": [
       "<Figure size 432x288 with 1 Axes>"
      ]
     },
     "metadata": {
      "needs_background": "light"
     },
     "output_type": "display_data"
    }
   ],
   "source": [
    "# plot precision and recall curve \n",
    "plot_precision_recall_curve(m, X_test_V, y_test)"
   ]
  },
  {
   "cell_type": "code",
   "execution_count": 32,
   "metadata": {},
   "outputs": [
    {
     "data": {
      "text/plain": [
       "0.9427295292230499"
      ]
     },
     "execution_count": 32,
     "metadata": {},
     "output_type": "execute_result"
    }
   ],
   "source": [
    "precisions, recalls, thresholds = precision_recall_curve(y_test, probs[:,1])\n",
    "# compute area under precision recall curve \n",
    "pr_area = auc(recalls, precisions)\n",
    "pr_area"
   ]
  },
  {
   "cell_type": "code",
   "execution_count": 33,
   "metadata": {},
   "outputs": [
    {
     "data": {
      "image/png": "[encoded data removed]",
      "text/plain": [
       "<Figure size 432x288 with 1 Axes>"
      ]
     },
     "metadata": {
      "needs_background": "light"
     },
     "output_type": "display_data"
    }
   ],
   "source": [
    "plt.plot(thresholds, precisions[:-1], \"b--\", label=\"Precision\")\n",
    "plt.plot(thresholds, recalls[:-1], \"g--\", label=\"Recall\")\n",
    "plt.xlabel(\"Threshold\")\n",
    "plt.legend(bbox_to_anchor=(1, 1), loc='upper left')\n",
    "plt.grid(b=True, which=\"both\", axis=\"both\", color='gray', linestyle='-', linewidth=1)\n",
    "plt.show()"
   ]
  },
  {
   "cell_type": "markdown",
   "metadata": {},
   "source": [
    "<font color='red'>\n",
    "Based on plot - recall==prescision on threshhold=0.6"
   ]
  },
  {
   "cell_type": "code",
   "execution_count": 34,
   "metadata": {},
   "outputs": [],
   "source": [
    "import numpy as np\n",
    "from sklearn.preprocessing import binarize\n",
    "\n",
    "THRESHOLD = 0.6\n",
    "adapted_y_preds = np.where(m.predict_proba(X_test_V)[:,1] > THRESHOLD, 1, 0)"
   ]
  },
  {
   "cell_type": "code",
   "execution_count": 35,
   "metadata": {},
   "outputs": [
    {
     "name": "stdout",
     "output_type": "stream",
     "text": [
      "The accuracy of the model is: 0.882\n",
      "The precision of the model is: 0.87\n",
      "The recall of the model is: 0.878\n",
      "The f1-score of the model is: 0.874\n"
     ]
    }
   ],
   "source": [
    "print(f'The accuracy of the model is: {round(accuracy_score(y_test, adapted_y_preds), 3)}')\n",
    "print(f'The precision of the model is: {round(precision_score(y_test, adapted_y_preds), 3)}')\n",
    "print(f'The recall of the model is: {round(recall_score(y_test, adapted_y_preds), 3)}')\n",
    "print(f'The f1-score of the model is: {round(f1_score(y_test, adapted_y_preds), 3)}')"
   ]
  },
  {
   "cell_type": "code",
   "execution_count": 36,
   "metadata": {},
   "outputs": [
    {
     "data": {
      "text/plain": [
       "<sklearn.metrics._plot.confusion_matrix.ConfusionMatrixDisplay at 0x1cdd2feefd0>"
      ]
     },
     "execution_count": 36,
     "metadata": {},
     "output_type": "execute_result"
    },
    {
     "data": {
      "image/png": "[encoded data removed]",
      "text/plain": [
       "<Figure size 432x288 with 2 Axes>"
      ]
     },
     "metadata": {
      "needs_background": "light"
     },
     "output_type": "display_data"
    }
   ],
   "source": [
    "cm = confusion_matrix(y_test, adapted_y_preds)    \n",
    "disp = ConfusionMatrixDisplay(cm, display_labels=['50 Cent', 'Britney Spears'])\n",
    "disp.plot()"
   ]
  },
  {
   "cell_type": "markdown",
   "metadata": {},
   "source": [
    "step 7: extract list of top 20 words for each artist"
   ]
  },
  {
   "cell_type": "code",
   "execution_count": 25,
   "metadata": {},
   "outputs": [
    {
     "name": "stdout",
     "output_type": "stream",
     "text": [
      "top 20 predicting words for Britney\n",
      "('care money', 'beat goes', 'look talking', 'prerogative', 'don somethin', 'satisfaction', 'outrageous', 'drop dead', 'gon gon', 'play unit', 'better work', 'say want', 'repeat chorus', 'got know', 'ba', 've got', 'love hate', 'gon pull', 'britney', 'nan')\n",
      "\n",
      "top 20 predicting words for 50 Cent\n",
      "('nigga', 'niggas', 'shit', 'bitch', 'ck', 'ass', '50', 'hood', 'fucking', 'bitches', 'motherfucking', 'money', 'eyes repeat', 'disrespectful', 'niggaz', 'krazy', 'unit', 'shots', 'monster', 'street')\n"
     ]
    },
    {
     "name": "stderr",
     "output_type": "stream",
     "text": [
      "c:\\Users\\maisa\\anaconda3\\lib\\site-packages\\sklearn\\utils\\deprecation.py:87: FutureWarning: Function get_feature_names is deprecated; get_feature_names is deprecated in 1.0 and will be removed in 1.2. Please use get_feature_names_out instead.\n",
      "  warnings.warn(msg, category=FutureWarning)\n"
     ]
    }
   ],
   "source": [
    "import operator\n",
    "import numpy as np\n",
    "print('top 20 predicting words for Britney')\n",
    "print(operator.itemgetter(*np.argsort(m.coef_[0]))(vectorizer.get_feature_names())[-20:])\n",
    "print('')\n",
    "print('top 20 predicting words for 50 Cent')\n",
    "print(operator.itemgetter(*np.argsort(m.coef_[0]))(vectorizer.get_feature_names())[:20])"
   ]
  }
 ],
 "metadata": {
  "kernelspec": {
   "display_name": "Python 3.9.7 ('base')",
   "language": "python",
   "name": "python3"
  },
  "language_info": {
   "codemirror_mode": {
    "name": "ipython",
    "version": 3
   },
   "file_extension": ".py",
   "mimetype": "text/x-python",
   "name": "python",
   "nbconvert_exporter": "python",
   "pygments_lexer": "ipython3",
   "version": "3.9.7"
  },
  "orig_nbformat": 4,
  "vscode": {
   "interpreter": {
    "hash": "fe9dd4d8c18fa01931d43b0f0eac2c855144ff7d1aed4e7134e806e69ff366e0"
   }
  }
 },
 "nbformat": 4,
 "nbformat_minor": 2
}
